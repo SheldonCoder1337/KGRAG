{
 "cells": [
  {
   "cell_type": "code",
   "execution_count": 3,
   "metadata": {},
   "outputs": [
    {
     "name": "stdout",
     "output_type": "stream",
     "text": [
      "S:\\SystemDefault\\Desktop\\UM_project\\project\\kag\\kag\\common\n"
     ]
    }
   ],
   "source": [
    "import sys\n",
    "specified_dir = r'S:\\SystemDefault\\Desktop\\UM_project\\project\\kag'\n",
    "if specified_dir not in sys.path:\n",
    "    sys.path.append(specified_dir)\n",
    "\n",
    "\n",
    "import os\n",
    "import kag.common as common\n",
    "LOCAL_SCHEMA_URL = \"http://localhost:8887\"\n",
    "DEFAULT_KAG_CONFIG_FILE_NAME = \"default_config.cfg\"\n",
    "DEFAULT_KAG_CONFIG_PATH = os.path.join(common.__path__[0], DEFAULT_KAG_CONFIG_FILE_NAME)\n",
    "KAG_CFG_PREFIX = \"KAG\"\n",
    "\n",
    "print(common.__path__[0])"
   ]
  }
 ],
 "metadata": {
  "kernelspec": {
   "display_name": "base",
   "language": "python",
   "name": "python3"
  },
  "language_info": {
   "codemirror_mode": {
    "name": "ipython",
    "version": 3
   },
   "file_extension": ".py",
   "mimetype": "text/x-python",
   "name": "python",
   "nbconvert_exporter": "python",
   "pygments_lexer": "ipython3",
   "version": "3.9.12"
  }
 },
 "nbformat": 4,
 "nbformat_minor": 2
}
